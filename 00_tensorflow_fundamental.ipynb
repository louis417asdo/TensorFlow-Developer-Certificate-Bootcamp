{
  "nbformat": 4,
  "nbformat_minor": 0,
  "metadata": {
    "colab": {
      "provenance": [],
      "authorship_tag": "ABX9TyMyVvZMO0w9/zkrghVSU+Ks",
      "include_colab_link": true
    },
    "kernelspec": {
      "name": "python3",
      "display_name": "Python 3"
    },
    "language_info": {
      "name": "python"
    }
  },
  "cells": [
    {
      "cell_type": "markdown",
      "metadata": {
        "id": "view-in-github",
        "colab_type": "text"
      },
      "source": [
        "<a href=\"https://colab.research.google.com/github/louis417asdo/TensorFlow-Developer-Certificate-Bootcamp/blob/main/00_tensorflow_fundamental.ipynb\" target=\"_parent\"><img src=\"https://colab.research.google.com/assets/colab-badge.svg\" alt=\"Open In Colab\"/></a>"
      ]
    },
    {
      "cell_type": "markdown",
      "source": [],
      "metadata": {
        "id": "2uc-pFFfP18K"
      }
    },
    {
      "cell_type": "markdown",
      "source": [
        "# In this notebook, we're going to learn fundamental of tensors using TensorFlow."
      ],
      "metadata": {
        "id": "XC30hZH5Pn8s"
      }
    },
    {
      "cell_type": "markdown",
      "source": [
        "More specifically, we're going to cover to cover:\n",
        "* Introduction to tensors\n",
        "* Getting information from tensors\n",
        "* Manipulating tensors\n",
        "* Tensors & NumPy\n",
        "* Using @tf.function (a way to speed up your regular Python functions)\n",
        "* Using GPUs with TensorFlow (or TPUs)\n",
        "* Exercises to try for yourself!"
      ],
      "metadata": {
        "id": "zi2vmaO7QH-f"
      }
    },
    {
      "cell_type": "markdown",
      "source": [
        "## Introdcution to Tensors"
      ],
      "metadata": {
        "id": "6w6HAzIpPhfa"
      }
    },
    {
      "cell_type": "code",
      "source": [
        "# Import TensorFlow\n",
        "import tensorflow as tf\n",
        "print(tf.__version__)"
      ],
      "metadata": {
        "id": "zoKOzpT1PZvk",
        "colab": {
          "base_uri": "https://localhost:8080/"
        },
        "outputId": "774ca9c4-9664-434e-f3e3-d282f1ff8eda"
      },
      "execution_count": 2,
      "outputs": [
        {
          "output_type": "stream",
          "name": "stdout",
          "text": [
            "2.15.0\n"
          ]
        }
      ]
    },
    {
      "cell_type": "code",
      "source": [
        "# Create tensor with tf.constant()\n",
        "scalar = tf.constant(7)\n",
        "scalar"
      ],
      "metadata": {
        "colab": {
          "base_uri": "https://localhost:8080/"
        },
        "id": "pX7_T6viTEGi",
        "outputId": "f88df2b3-6cb3-485e-da28-c5ac771ce2d0"
      },
      "execution_count": 4,
      "outputs": [
        {
          "output_type": "execute_result",
          "data": {
            "text/plain": [
              "<tf.Tensor: shape=(), dtype=int32, numpy=7>"
            ]
          },
          "metadata": {},
          "execution_count": 4
        }
      ]
    }
  ]
}